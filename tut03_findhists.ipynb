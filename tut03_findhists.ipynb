{
 "cells": [
  {
   "cell_type": "markdown",
   "metadata": {},
   "source": [
    "# Finding histograms in a list\n",
    "\n",
    "In a common case one defines histograms where the name incorporates settings i.e. a cut string and a tag. As histograms for cuts are typically in different lists the hisogram corresponding to a certain cut is unique. The goal is to write a method that returns the histogram with a certain tag in a general way. Assume the histograms are stored in a TObjArray, and there is only one TObjArray per file."
   ]
  },
  {
   "cell_type": "code",
   "execution_count": null,
   "metadata": {},
   "outputs": [],
   "source": [
    "TH1 *findHist(const char *filename, const char *histtag) {\n",
    "    TH1 *hist = nullptr;\n",
    "    std::unique_ptr<TFile> reader(TFile::Open(filename, \"READ\"));\n",
    "    if(!reader.get() || reader->IsZombie()){\n",
    "        std::cerr << \"Failed accessing file \" << filename << std::endl;\n",
    "        return nullptr;\n",
    "    }\n",
    "    reader->ls();\n",
    "    // your code here ...\n",
    "    // Objects are in the TFile as directory, to be converted to a std::vector\n",
    "    // TRangeDynCast automatically cast the object in ROOT containers to the inheriting type\n",
    "    std::vector<TObject *> objects;\n",
    "    for(auto o : TRangeDynCast<TKey>(gDirectory->GetListOfKeys())) objects.push_back(o->ReadObj());\n",
    "    auto comp = [histtag] (TObject *o) { \n",
    "        // the comparator: capturing histtag by value\n",
    "        std::cout << \"Next object:   \" << o->GetName() << std::endl; \n",
    "        std::cout << \"Searching tag: \" << histtag << std::endl; \n",
    "        // The actual find operation\n",
    "        // return statement automatically determines return type\n",
    "        return std::string(o->GetName()).find(histtag) != std::string::npos; \n",
    "    };  \n",
    "    auto hptr = std::find_if(objects.begin(), objects.end(), comp);  // returning iterator to object\n",
    "    if(hptr != objects.end()) {\n",
    "        std::cout << \"histo found\" << std::endl;\n",
    "        hist = static_cast<TH1 *>(*hptr);\n",
    "    }\n",
    "        \n",
    "    // end your code\n",
    "    if(hist) hist->SetDirectory(nullptr);    // Remove histogram from ROOT's file I/O\n",
    "    return hist;\n",
    "};"
   ]
  },
  {
   "cell_type": "markdown",
   "metadata": {},
   "source": [
    "Test the method with a test file finding the histogram hPt."
   ]
  },
  {
   "cell_type": "code",
   "execution_count": null,
   "metadata": {},
   "outputs": [],
   "source": [
    "auto hist = findHist(\"./data/10111000101_trackqa.root\", \"hpt\");\n",
    "if(hist) {\n",
    "    auto plot = new TCanvas(\"hPlot\", \"Plot\", 800, 600);\n",
    "    plot->cd();\n",
    "    hist->Draw();    \n",
    "    plot->Draw();\n",
    "} else {\n",
    "    std::cerr << \"Histogram not found\" << std::endl;\n",
    "}\n"
   ]
  },
  {
   "cell_type": "code",
   "execution_count": null,
   "metadata": {},
   "outputs": [],
   "source": []
  }
 ],
 "metadata": {
  "kernelspec": {
   "display_name": "ROOT C++",
   "language": "c++",
   "name": "root"
  },
  "language_info": {
   "codemirror_mode": "text/x-c++src",
   "file_extension": ".C",
   "mimetype": " text/x-c++src",
   "name": "c++"
  }
 },
 "nbformat": 4,
 "nbformat_minor": 2
}
