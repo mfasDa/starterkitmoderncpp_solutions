{
 "cells": [
  {
   "cell_type": "markdown",
   "metadata": {},
   "source": [
    "# Generic styles with generic lambdas\n",
    "\n",
    "Styling graphics object is a common task when plotting results. Having a common style function can therefore reduce code significantly, particularly when having many objects which need to be styled. However often it appears that macros contain both histograms and graphs. Due to multiple inheritance histograms and graphs have no common base clase which can be used when styling objects. In case the style function would use TObject as common base class this would result in downcasting within the style function, which leads to code duplication. To overcome this, templates (since ROOT6) can be used. Another possibility is to use generic lambdas and closures (requires c++14)."
   ]
  },
  {
   "cell_type": "code",
   "execution_count": null,
   "metadata": {},
   "outputs": [],
   "source": [
    "// Defining test data: 1 TGraph object, 1 TH1D object\n",
    "std::vector<double> xvalsGraph = {0.5, 1.5, 2.5, 3.5, 4.5},\n",
    "                    exvalsGraph = {0.5, 0.5, 0.5, 0.5, 0.5},\n",
    "                    yvalsGraph = {0., 3., 10., 5., 2.},\n",
    "                    eyvalsGraph = {0., 0.1, 0.2, 0.15, 0.05};\n",
    "TGraphErrors *testgraph = new TGraphErrors;\n",
    "for(auto i : ROOT::TSeqI(0, 6)) {\n",
    "    testgraph->SetPoint(i, xvalsGraph[i], yvalsGraph[i]);\n",
    "    testgraph->SetPointError(i, exvalsGraph[i], eyvalsGraph[i]);\n",
    "}\n",
    "TH1 *testhisto = new TH1D(\"testhisto\", \"Test histogram\", 5, 0., 5.);\n",
    "for(auto i : ROOT::TSeqI(0., 30)) testhisto->Fill(gRandom->Gaus(2.5, 1.));"
   ]
  },
  {
   "cell_type": "markdown",
   "metadata": {},
   "source": [
    "## Closure for style\n",
    "\n",
    "Create a closure for the graphics style. Don't forget: The outer function takes the parameters for color and marker, the inner function captures those and takes as argument the objects to be styled."
   ]
  },
  {
   "cell_type": "code",
   "execution_count": null,
   "metadata": {},
   "outputs": [],
   "source": [
    "// Your code here\n",
    "auto style = [](Color_t col, Style_t mrk){\n",
    "    return [col, mrk](auto graphicsobject) {\n",
    "        graphicsobject->SetMarkerColor(col);\n",
    "        graphicsobject->SetMarkerStyle(mrk);\n",
    "        graphicsobject->SetLineColor(col);\n",
    "    };\n",
    "};"
   ]
  },
  {
   "cell_type": "markdown",
   "metadata": {},
   "source": [
    "Create a style for the graph with color red and marker 24, and one for the histogram with color blue and marker 25. In real life it can happen that one uses a lot more styles (i.e. for different conditions), therefore storing them in vectors or maps makes a lot of sense."
   ]
  },
  {
   "cell_type": "code",
   "execution_count": null,
   "metadata": {},
   "outputs": [],
   "source": [
    "// Your code here\n",
    "auto graphstyle = style(kRed, 24), histstyle = style(kBlue, 25);"
   ]
  },
  {
   "cell_type": "markdown",
   "metadata": {},
   "source": [
    "## Create your final plot\n",
    "Apply the styles you created before to the graph and the histogram, and plot them. What would happen if you swap the styles (use the style for the histogram for the graph and vice versa)?"
   ]
  },
  {
   "cell_type": "code",
   "execution_count": null,
   "metadata": {},
   "outputs": [],
   "source": [
    "// your code here\n",
    "histstyle(testhisto);\n",
    "graphstyle(testgraph);\n",
    "\n",
    "auto plot = new TCanvas(\"plot\", \"plot\", 640, 480);\n",
    "auto frame = new TH1F(\"frame\", \"; x-values; entries\", 10, 0., 5.);\n",
    "frame->SetDirectory(nullptr);\n",
    "frame->SetStats(false);\n",
    "frame->GetYaxis()->SetRangeUser(0., 20.);\n",
    "frame->Draw(\"axis\");\n",
    "testgraph->Draw(\"epsame\");\n",
    "testhisto->Draw(\"epsame\");\n",
    "plot->Draw();"
   ]
  },
  {
   "cell_type": "code",
   "execution_count": null,
   "metadata": {},
   "outputs": [],
   "source": []
  }
 ],
 "metadata": {
  "kernelspec": {
   "display_name": "ROOT C++",
   "language": "c++",
   "name": "root"
  },
  "language_info": {
   "codemirror_mode": "text/x-c++src",
   "file_extension": ".C",
   "mimetype": " text/x-c++src",
   "name": "c++"
  }
 },
 "nbformat": 4,
 "nbformat_minor": 2
}
