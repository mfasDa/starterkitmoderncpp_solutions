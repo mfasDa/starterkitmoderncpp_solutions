{
 "cells": [
  {
   "cell_type": "markdown",
   "metadata": {},
   "source": [
    "# Period-by-Period comparison\n",
    "\n",
    "A basic step in data analysis is to make comparisons of different distributions (i.e. cuts, data sets, Data/MC). When defining a plotting style associative containers are a very useful tool to define styles and assign them dynamically to plotting objects. The task is to define a plotting style and store it for several data samples in an associative container. For the associative containers try to use the following containers:\n",
    "    - std::map\n",
    "    - ROOT's TMap"
   ]
  },
  {
   "cell_type": "code",
   "execution_count": null,
   "metadata": {},
   "outputs": [],
   "source": [
    "class PlotStyle : public TObject {\n",
    "        Color_t fColor;\n",
    "        Style_t fMarker;\n",
    "    public:\n",
    "        PlotStyle() : TObject(), fColor(0), fMarker(0) {}\n",
    "        PlotStyle(Color_t color, Style_t marker) : TObject(), fColor(color), fMarker(marker) {}\n",
    "        virtual ~PlotStyle() {}\n",
    "        \n",
    "        void SetColor(Color_t color) { fColor = color; }\n",
    "        void SetMarker(Style_t marker) { fMarker = marker; }\n",
    "        \n",
    "        Color_t GetColor() const { return fColor; }\n",
    "        Style_t GetMarker() const { return fMarker; }\n",
    "            \n",
    "        template<typename t>\n",
    "        void SetStyle(t * graphicsobject) const {\n",
    "            graphicsobject->SetMarkerColor(fColor);\n",
    "            graphicsobject->SetLineColor(fColor);\n",
    "            graphicsobject->SetMarkerStyle(fMarker);\n",
    "        }\n",
    "};"
   ]
  },
  {
   "cell_type": "markdown",
   "metadata": {},
   "source": [
    "Create the associative containers and fill them with styles. The following styles should be applied for the different datasets:\n",
    "    \n",
    "| Period | Color  | Marker |\n",
    "|--------|--------|--------|\n",
    "| LHC17h | Red    |   24   |\n",
    "| LHC17i | Blue   |   25   |\n",
    "| LHC17k | Green  |   26   |\n",
    "| LHC17m | Violet |   27   |"
   ]
  },
  {
   "cell_type": "code",
   "execution_count": null,
   "metadata": {},
   "outputs": [],
   "source": [
    "// Your code here\n",
    "std::map<string, PlotStyle *> styles = {{\"LHC17h\", new PlotStyle(kRed, 24)}, {\"LHC17i\", new PlotStyle(kBlue, 25)},{\"LHC17j\", new PlotStyle(kGreen, 26)}, {\"LHC17m\", new PlotStyle(kViolet, 27)}};"
   ]
  },
  {
   "cell_type": "markdown",
   "metadata": {},
   "source": [
    "Test your code: Plot the histogram named hPt for all periods mentiond above in one canvas."
   ]
  },
  {
   "cell_type": "code",
   "execution_count": null,
   "metadata": {},
   "outputs": [],
   "source": [
    "std::map<std::string, TH1 *> periodhists;\n",
    "{\n",
    "    std::unique_ptr<TFile> reader(TFile::Open(\"./data/periodcomparison.root\"));\n",
    "    for(auto p : TRangeDynCast<TKey>(gDirectory->GetListOfKeys())) {\n",
    "        std::string period = p->GetName();\n",
    "        reader->cd(period.data());\n",
    "        auto pthist = static_cast <TH1 *>(gDirectory->Get(\"hpt\"));\n",
    "        pthist->SetDirectory(nullptr);\n",
    "            \n",
    "        PlotStyle *style(nullptr);\n",
    "        // Your code here: find the style in the lookup table, set the style to the histogram\n",
    "        style = styles[period];\n",
    "            \n",
    "        if(style){\n",
    "            style->SetStyle<std::remove_pointer<decltype(pthist)>::type>(pthist); // Would this code work if you suddenly decide to change plotting object from TGraph to TH1 ?    \n",
    "        }\n",
    "        periodhists[period] = pthist;\n",
    "    }\n",
    "}\n",
    "auto plot = new TCanvas(\"periodComparison\", \"Period comparison\", 800, 600);\n",
    "plot->Draw();\n",
    "plot->SetLogy();\n",
    "auto frame = new TH1F(\"frame\", \"; p_{t} (GeV/c); 1/N_{ev} dN/dp_{t}\", 100, 0., 100.);\n",
    "frame->SetDirectory(nullptr);\n",
    "frame->SetStats(false);\n",
    "frame->GetYaxis()->SetRangeUser(1e-10, 100);\n",
    "frame->Draw();\n",
    "auto leg = new TLegend(0.7, 0.65, 0.89, 0.89);\n",
    "leg->SetBorderSize(0);\n",
    "leg->SetFillStyle(0);\n",
    "leg->SetTextFont(42);\n",
    "leg->Draw();\n",
    "for(const auto &en : periodhists) {\n",
    "    en.second->Draw(\"epsame\");\n",
    "    leg->AddEntry(en.second, en.first.data(), \"lep\");\n",
    "}\n",
    "plot->cd();\n",
    "plot->Update();"
   ]
  },
  {
   "cell_type": "code",
   "execution_count": null,
   "metadata": {},
   "outputs": [],
   "source": []
  }
 ],
 "metadata": {
  "kernelspec": {
   "display_name": "ROOT C++",
   "language": "c++",
   "name": "root"
  },
  "language_info": {
   "codemirror_mode": "text/x-c++src",
   "file_extension": ".C",
   "mimetype": " text/x-c++src",
   "name": "c++"
  }
 },
 "nbformat": 4,
 "nbformat_minor": 2
}
