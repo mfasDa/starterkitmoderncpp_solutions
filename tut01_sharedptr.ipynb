{
 "cells": [
  {
   "cell_type": "markdown",
   "metadata": {},
   "source": [
    "# Usage of shared pointers\n",
    "\n",
    "Shared pointers are useful if many clients need to access the same resource. When a client goes out-of-scope it disconnects from the shared resource. The last pointer deletes the object."
   ]
  },
  {
   "cell_type": "markdown",
   "metadata": {},
   "source": [
    "Example class for payload as shared resource: It just visualizes constructors / destructors being called."
   ]
  },
  {
   "cell_type": "code",
   "execution_count": null,
   "metadata": {},
   "outputs": [],
   "source": [
    "class Payload {\n",
    "  public:\n",
    "    Payload() { std::cout << \"Payload constructor called\" << std::endl; }\n",
    "    Payload(const Payload &ref) { std::cout << \"Payload copy constructor called\" << std::endl; }\n",
    "    Payload &operator=(const Payload &ref) { std::cout << \"Payload assignment operator called\" << std::endl; return *this; }\n",
    "    ~Payload() { std::cout << \"Payload destructor called\" << std::endl; }\n",
    "};"
   ]
  },
  {
   "cell_type": "markdown",
   "metadata": {},
   "source": [
    "Creating a client class: The class has a shared pointer to a payload instance. Sharing the payload happens when the copy constructor is called."
   ]
  },
  {
   "cell_type": "code",
   "execution_count": null,
   "metadata": {},
   "outputs": [],
   "source": [
    "class Client {\n",
    "    std::shared_ptr<Payload> fPayload;\n",
    "    \n",
    "    public:\n",
    "    Client() : fPayload() { std::cout << \"Client constructor called\" << std::endl; }\n",
    "    Client(Payload *payload) : fPayload(payload) { std::cout << \"Client constructor with payload called: Currently \" << fPayload.use_count() << \" clients accessing the payload\" << std::endl; }\n",
    "    Client(const Client &ref) : fPayload(ref.fPayload) { std::cout << \"Client copy constructor called: Currently \" << fPayload.use_count() << \" clients accessing the payload\" << std::endl; }\n",
    "    Client &operator=(const Client &ref) {\n",
    "        if(&ref != this) {\n",
    "            fPayload = ref.fPayload;\n",
    "            std::cout << \"Client assignment operator called: Currently \" << fPayload.use_count() << \" clients accessing the payload\" << std::endl;\n",
    "        }\n",
    "        return *this;\n",
    "    }\n",
    "    ~Client() { std::cout << \"Destructor called : Currently \" << fPayload.use_count() << \" clients accessing the payload (before delete)\" << std::endl; }\n",
    "};"
   ]
  },
  {
   "cell_type": "markdown",
   "metadata": {},
   "source": [
    "Creating the first client where we set the payload. It will set the ref count to 1."
   ]
  },
  {
   "cell_type": "code",
   "execution_count": null,
   "metadata": {},
   "outputs": [],
   "source": [
    "Client * base = new Client(new Payload);"
   ]
  },
  {
   "cell_type": "markdown",
   "metadata": {},
   "source": [
    "Create other clients related from the base client. We now have multiple clients accessing the same resource ..."
   ]
  },
  {
   "cell_type": "code",
   "execution_count": null,
   "metadata": {},
   "outputs": [],
   "source": [
    "std::vector<Client *> others;\n",
    "for(int i = 0; i < 10; i++) {\n",
    "    others.push_back(new Client(*base));\n",
    "}"
   ]
  },
  {
   "cell_type": "markdown",
   "metadata": {},
   "source": [
    "We now delete all the clients related from the base client. The reference count is always obtained before the client shared pointer is deleted."
   ]
  },
  {
   "cell_type": "code",
   "execution_count": null,
   "metadata": {},
   "outputs": [],
   "source": [
    "for(auto o : others) delete o;"
   ]
  },
  {
   "cell_type": "markdown",
   "metadata": {},
   "source": [
    "Deleting the last client instance. It will delete the payload as well as it is the last instance accessing it."
   ]
  },
  {
   "cell_type": "code",
   "execution_count": null,
   "metadata": {},
   "outputs": [],
   "source": [
    "delete base;"
   ]
  },
  {
   "cell_type": "code",
   "execution_count": null,
   "metadata": {},
   "outputs": [],
   "source": []
  }
 ],
 "metadata": {
  "kernelspec": {
   "display_name": "ROOT C++",
   "language": "c++",
   "name": "root"
  },
  "language_info": {
   "codemirror_mode": "text/x-c++src",
   "file_extension": ".C",
   "mimetype": " text/x-c++src",
   "name": "c++"
  }
 },
 "nbformat": 4,
 "nbformat_minor": 2
}
