{
 "cells": [
  {
   "cell_type": "markdown",
   "metadata": {},
   "source": [
    "# Leading jets\n",
    "\n",
    "Events can contain multiple jet candidates. We want to find the two leading jets in the event. First we define our structure for the jet information."
   ]
  },
  {
   "cell_type": "code",
   "execution_count": null,
   "metadata": {},
   "outputs": [],
   "source": [
    "struct jet {\n",
    "    double fPt;\n",
    "    double fEta;\n",
    "    double fPhi;\n",
    "    int fNConstituents;\n",
    "    \n",
    "    // Your code here\n",
    "    bool operator>(const jet &other) const { return fPt > other.fPt; }\n",
    "};"
   ]
  },
  {
   "cell_type": "markdown",
   "metadata": {},
   "source": [
    "List of jets found in the event by the jet finder (numerical example, on physics meaning):"
   ]
  },
  {
   "cell_type": "code",
   "execution_count": null,
   "metadata": {},
   "outputs": [],
   "source": [
    "std::vector<jet> jets = {{10., 0.4, 0.15, 4}, {50., 0.1, 5.2, 10}, {30., -0.6, 3.5, 3}, {20., -0.2 , 4.1, 4}, {100., 0., 2., 8}};"
   ]
  },
  {
   "cell_type": "markdown",
   "metadata": {},
   "source": [
    "Sort the jets in the event. Use std::sort on the vector. Use a lambda function to compare two jets."
   ]
  },
  {
   "cell_type": "code",
   "execution_count": null,
   "metadata": {},
   "outputs": [],
   "source": [
    "// Your code here\n",
    "std::sort(jets.begin(), jets.end(), std::greater<jet>());"
   ]
  },
  {
   "cell_type": "markdown",
   "metadata": {},
   "source": [
    "Print the jet pt after sorting. Make sure the leading jet is in the first position."
   ]
  },
  {
   "cell_type": "code",
   "execution_count": null,
   "metadata": {},
   "outputs": [],
   "source": [
    "for(const auto &j : jets) std::cout <<  \"Next jet, pt = \" << j.fPt << \" GeV/c\" << std::endl;"
   ]
  },
  {
   "cell_type": "code",
   "execution_count": null,
   "metadata": {},
   "outputs": [],
   "source": []
  }
 ],
 "metadata": {
  "kernelspec": {
   "display_name": "ROOT C++",
   "language": "c++",
   "name": "root"
  },
  "language_info": {
   "codemirror_mode": "text/x-c++src",
   "file_extension": ".C",
   "mimetype": " text/x-c++src",
   "name": "c++"
  }
 },
 "nbformat": 4,
 "nbformat_minor": 2
}
