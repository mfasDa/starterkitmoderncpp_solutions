{
 "cells": [
  {
   "cell_type": "markdown",
   "metadata": {},
   "source": [
    "# Analysis of ROOT trees using RDataFrame\n",
    "\n",
    "RDataFrame is a modern way to analyze ROOT trees (and more!). The main principle is to express the analysis as a functional chain rather than in a procedural way. Cling compiles this functional chain into a binary expression which it can evaluate. This opens the room for optimizations. Multi-threading comes out-of-the-box."
   ]
  },
  {
   "cell_type": "code",
   "execution_count": null,
   "metadata": {},
   "outputs": [],
   "source": [
    "{\n",
    "    std::unique_ptr<TFile> branchreader(TFile::Open(\"./data/rdfexample.root\", \"READ\"));\n",
    "    auto testtree = static_cast<TTree *>(branchreader->Get(\"tracktree\"));\n",
    "    testtree->Print();\n",
    "}"
   ]
  },
  {
   "cell_type": "markdown",
   "metadata": {},
   "source": [
    "Creating a new data frame for the analysis of the track tree:"
   ]
  },
  {
   "cell_type": "code",
   "execution_count": null,
   "metadata": {},
   "outputs": [],
   "source": [
    "ROOT::RDataFrame trackframe(\"tracktree\", \"./data/rdfexample.root\");\n",
    "for(const auto &col : trackframe.GetColumnNames()) std::cout << \"Found column: \" << col << std::endl;"
   ]
  },
  {
   "cell_type": "markdown",
   "metadata": {},
   "source": [
    "Define branches for pt, eta and phi. Monitor pt."
   ]
  },
  {
   "cell_type": "code",
   "execution_count": null,
   "metadata": {},
   "outputs": [],
   "source": [
    "// your code here\n",
    "auto makeeta = [](double px, double py, double pz) { TVector3 pvec(px, py, pz); return pvec.Eta(); };\n",
    "auto makephi = [](double px, double py) { TVector2 pvec2(px, py); return TVector2::Phi_0_2pi(pvec2.Phi()); };\n",
    "auto trackframenew = trackframe.Define(\"pt\", \"TMath::Sqrt(px*px+py*py)\").Define(\"eta\", makeeta, {\"px\", \"py\", \"pz\"}).Define(\"phi\", makephi,{\"px\", \"py\"});\n",
    "\n",
    "auto hpt = trackframenew.Histo1D({\"hpt\", \"track pt\", 100, 0., 100.}, \"pt\");\n",
    "auto plotpt = new TCanvas(\"plotpt\", \"Plot Pt\", 640, 480);\n",
    "plotpt->cd();\n",
    "gPad->SetLogy();\n",
    "hpt->Draw(\"ep\");\n",
    "plotpt->Draw();"
   ]
  },
  {
   "cell_type": "markdown",
   "metadata": {},
   "source": [
    "List Column names again after defining the new branches"
   ]
  },
  {
   "cell_type": "code",
   "execution_count": null,
   "metadata": {},
   "outputs": [],
   "source": [
    "// your code here\n",
    "for(const auto &col : trackframenew.GetColumnNames()) std::cout << \"Found column: \" << col << std::endl;"
   ]
  },
  {
   "cell_type": "markdown",
   "metadata": {},
   "source": [
    "Play a bit with the plotting. Monitor different columns. Try also 2D histograms."
   ]
  },
  {
   "cell_type": "code",
   "execution_count": null,
   "metadata": {},
   "outputs": [],
   "source": [
    "// your code here\n",
    "auto histetaphi = trackframenew.Histo2D({\"hEtaPhi\", \"Eta-phi\", 100, -0.9, 0.9, 100, 0., TMath::TwoPi()}, \"eta\", \"phi\");\n",
    "auto plotetaphi = new TCanvas(\"plotetaphi\", \"Eta-Phi plot\", 640, 480);\n",
    "plotetaphi->cd();\n",
    "histetaphi->Draw(\"colz\");\n",
    "plotetaphi->Draw();"
   ]
  },
  {
   "cell_type": "markdown",
   "metadata": {},
   "source": [
    "Select tracks with at least 120 TPC clusters and 4 ITS clusters. Draw pt, eta and phi."
   ]
  },
  {
   "cell_type": "code",
   "execution_count": null,
   "metadata": {},
   "outputs": [],
   "source": [
    "// your code here\n",
    "auto goodtracks = trackframenew.Filter(\"TPCncls >= 120 && ITSncls >= 2\");\n",
    "auto hgoodpt = goodtracks.Histo1D({\"hPtGood\", \"Pt good tracks\", 100, 0., 100.}, \"pt\");\n",
    "auto hgoodetaphi = goodtracks.Histo2D({\"hEtaPhiGood\", \"Eta-Phi good tracks\", 100, -0.9, 0.9, 100, 0, TMath::TwoPi()}, \"eta\", \"phi\");\n",
    "\n",
    "auto plotgood = new TCanvas(\"plotgood\", \"Plot good tracks\", 1200, 600);\n",
    "plotgood->Divide(2,1);\n",
    "plotgood->cd(1);\n",
    "gPad->SetLogy();\n",
    "hgoodpt->Draw(\"ep\");\n",
    "plotgood->cd(2);\n",
    "hgoodetaphi->Draw(\"colz\");\n",
    "plotgood->cd();\n",
    "plotgood->Draw();"
   ]
  },
  {
   "cell_type": "markdown",
   "metadata": {},
   "source": [
    "Get the mean value and the standard deviation for pt, number of TPC clusters and number of ITS clusters. Use directly the functionality of the RDataFrame, don't create histograms first."
   ]
  },
  {
   "cell_type": "code",
   "execution_count": null,
   "metadata": {},
   "outputs": [],
   "source": [
    "// your code here\n",
    "auto   meanpt = trackframenew.Mean(\"pt\"), \n",
    "       sigpt = trackframenew.StdDev(\"pt\"), \n",
    "       meanTPCncls = trackframenew.Mean(\"TPCncls\"),\n",
    "       sigTPCncls = trackframenew.StdDev(\"TPCncls\"),\n",
    "       meanITSncls = trackframenew.Mean(\"ITSncls\"),\n",
    "       sigITSncls = trackframenew.StdDev(\"ITSncls\");\n",
    "\n",
    "std::cout << \"Pt: mean \" << *meanpt << \", sigma \" << *sigpt << std::endl;\n",
    "std::cout << \"TPC ncls: mean \" << *meanTPCncls << \", sigma \" << *sigTPCncls << std::endl;\n",
    "std::cout << \"ITS ncls: mean \" << *meanITSncls << \", sigma \" << *sigITSncls << std::endl;"
   ]
  },
  {
   "cell_type": "markdown",
   "metadata": {},
   "source": [
    "Create a new Tree including the new columns plus the number of ITS and TPC clusters, but without px, py and pz, and write it to your cernbox."
   ]
  },
  {
   "cell_type": "code",
   "execution_count": null,
   "metadata": {},
   "outputs": [],
   "source": [
    "// your code here\n",
    "trackframenew.Snapshot(\"tracktreenew\", \"/eos/user/m/mfasel/tracktreenew.root\")"
   ]
  },
  {
   "cell_type": "code",
   "execution_count": null,
   "metadata": {},
   "outputs": [],
   "source": []
  }
 ],
 "metadata": {
  "kernelspec": {
   "display_name": "ROOT C++",
   "language": "c++",
   "name": "root"
  },
  "language_info": {
   "codemirror_mode": "text/x-c++src",
   "file_extension": ".C",
   "mimetype": " text/x-c++src",
   "name": "c++"
  }
 },
 "nbformat": 4,
 "nbformat_minor": 2
}
