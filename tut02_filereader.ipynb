{
 "cells": [
  {
   "cell_type": "markdown",
   "metadata": {},
   "source": [
    "# File handling with smart pointers\n",
    "\n",
    "Smart pointers are useful to control the lifetime of a file. Usually one wants to open a file, read / write something, and then close it again in order not to have objects accidentially connected to the file. When smart pointers go out-of-scope, they call the destructor of the object (here: TFile destructor). The TFile destructor will close the file automatically."
   ]
  },
  {
   "cell_type": "code",
   "execution_count": null,
   "metadata": {},
   "outputs": [],
   "source": [
    "TH1 *simplehist(nullptr);   // declare pointer to object from file to be read"
   ]
  },
  {
   "cell_type": "markdown",
   "metadata": {},
   "source": [
    "The smart pointer goes out-of-scope when a block ends (\"}\"). Therefore reading the file needs to be within a block statement:"
   ]
  },
  {
   "cell_type": "code",
   "execution_count": null,
   "metadata": {},
   "outputs": [],
   "source": [
    "{\n",
    "    std::unique_ptr<TFile> reader(TFile::Open(\"./data/hsimple.root\"));\n",
    "    printf(\"gFile pointing to: %p\\n\", gFile);\n",
    "    simplehist = static_cast<TH1 *>(reader->Get(\"hpx\"));\n",
    "    simplehist->SetDirectory(nullptr);   // Needs to be disconnected from file as the file will be closed\n",
    "}"
   ]
  },
  {
   "cell_type": "markdown",
   "metadata": {},
   "source": [
    "Draw the histogram read from the file. It is now in memory."
   ]
  },
  {
   "cell_type": "code",
   "execution_count": null,
   "metadata": {},
   "outputs": [],
   "source": [
    "TCanvas *plot = new TCanvas();\n",
    "plot->cd();\n",
    "simplehist->Draw();\n",
    "plot->Draw();"
   ]
  },
  {
   "cell_type": "markdown",
   "metadata": {},
   "source": [
    "Check whether the file is still open. If yes, then gFile points to something."
   ]
  },
  {
   "cell_type": "code",
   "execution_count": null,
   "metadata": {},
   "outputs": [],
   "source": [
    "printf(\"gFile pointing to: %p\\n\", gFile);"
   ]
  },
  {
   "cell_type": "code",
   "execution_count": null,
   "metadata": {},
   "outputs": [],
   "source": []
  }
 ],
 "metadata": {
  "kernelspec": {
   "display_name": "ROOT C++",
   "language": "c++",
   "name": "root"
  },
  "language_info": {
   "codemirror_mode": "text/x-c++src",
   "file_extension": ".C",
   "mimetype": " text/x-c++src",
   "name": "c++"
  }
 },
 "nbformat": 4,
 "nbformat_minor": 2
}
