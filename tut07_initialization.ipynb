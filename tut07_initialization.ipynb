{
 "cells": [
  {
   "cell_type": "markdown",
   "metadata": {},
   "source": [
    "# Object initialization in c++11"
   ]
  },
  {
   "cell_type": "markdown",
   "metadata": {},
   "source": [
    "## The difference between () and {}\n",
    "\n",
    "Object can be initialized with normal () and curled {} brackets. Curled brackets have some restrictions that might help making the code more robust."
   ]
  },
  {
   "cell_type": "code",
   "execution_count": null,
   "metadata": {},
   "outputs": [],
   "source": [
    "class SimpleEvent {\n",
    "    int fNtrack;\n",
    "    double fVz;\n",
    "    \n",
    "public:\n",
    "    SimpleEvent() : fNtrack(0), fVz(DBL_MIN) {}\n",
    "    SimpleEvent(int ntrack, double vz) : fNtrack(ntrack), fVz(vz) {}\n",
    "    \n",
    "    void SetNTrack(int ntrack) { fNtrack = ntrack; }\n",
    "    void SetVz(double vz) { fVz = vz; }\n",
    "    \n",
    "    int GetNTrack() const { return fNtrack; }\n",
    "    double GetVz() const { return fVz; }\n",
    "};"
   ]
  },
  {
   "cell_type": "markdown",
   "metadata": {
    "slideshow": {
     "slide_type": "slide"
    }
   },
   "source": [
    "Initialize object with (). In one case use narrowing implicit cast (value has lower precision than parameter in constructor)."
   ]
  },
  {
   "cell_type": "code",
   "execution_count": null,
   "metadata": {},
   "outputs": [],
   "source": [
    "SimpleEvent nb1(10, 0.5);\n",
    "SimpleEvent nb2(5., 10.);   // narrowing. Precision loss due to conversion double -> int\n",
    "// What about the other direction: Implicit cast with \"gain\" in precision\n",
    "SimpleEvent nb3{15, 20};"
   ]
  },
  {
   "cell_type": "markdown",
   "metadata": {},
   "source": [
    "Initialize object with {}. In one case use narrowing implicit cast (value has lower precision than parameter in constructor). What happens in the narrowing case?"
   ]
  },
  {
   "cell_type": "code",
   "execution_count": null,
   "metadata": {},
   "outputs": [],
   "source": [
    "SimpleEvent cb1{10, 0.5};\n",
    "SimpleEvent cb2{5., 10.};   // narrowing. Precision loss due to conversion double -> int\n",
    "// What about the other direction: Implicit cast with \"gain\" in precision\n",
    "SimpleEvent cb3{15, 20};"
   ]
  },
  {
   "cell_type": "markdown",
   "metadata": {},
   "source": [
    "## POD objects\n",
    "\n",
    "Plain Old Data structure (POD) consisting only of a set of attributes - no object oriented prinicples (like encapsulation, inheritance, ...) apply. In c++ POD object are represented by structs. POD objects can be useful if the amount of data it holds and the functionality of the object is limited."
   ]
  },
  {
   "cell_type": "code",
   "execution_count": null,
   "metadata": {},
   "outputs": [],
   "source": [
    "struct Style {\n",
    "    Color_t fColor;\n",
    "    Style_t fMarker;\n",
    "    \n",
    "    template<typename t>\n",
    "    void SetStyle(t * object) { \n",
    "        object->SetMarkerColor(fColor);\n",
    "        object->SetMarkerStyle(fMarker);\n",
    "        object->SetLineColor(fColor);\n",
    "    }\n",
    "};"
   ]
  },
  {
   "cell_type": "markdown",
   "metadata": {},
   "source": [
    "Does this struct look familiar to you? \n",
    "\n",
    "Construct POD object with ()."
   ]
  },
  {
   "cell_type": "code",
   "execution_count": null,
   "metadata": {},
   "outputs": [],
   "source": [
    "Style s1(kRed, 24);"
   ]
  },
  {
   "cell_type": "markdown",
   "metadata": {},
   "source": [
    "Initialize POD object with {}."
   ]
  },
  {
   "cell_type": "code",
   "execution_count": null,
   "metadata": {},
   "outputs": [],
   "source": [
    "Style s2{kBlue, 25};"
   ]
  },
  {
   "cell_type": "markdown",
   "metadata": {},
   "source": [
    "## Initializer list\n",
    "\n",
    "In the upper example the constructor is called with the curled brackets exactly for 2 arguments. What if the amount of arguments to be stored should be dynamic?"
   ]
  },
  {
   "cell_type": "code",
   "execution_count": null,
   "metadata": {
    "slideshow": {
     "slide_type": "slide"
    }
   },
   "outputs": [],
   "source": [
    "template<typename t>\n",
    "class container {\n",
    "        std::vector<t>    fData;\n",
    "    public:\n",
    "        container() : fData() {}\n",
    "        container(std::initializer_list<t> in) : fData() {\n",
    "            for(decltype(in.begin()) it = in.begin(); it != in.end(); it++) { fData.emplace_back(*it); }\n",
    "        }\n",
    "        const std::vector<t> &Data() const { return fData; }\n",
    "};\n",
    "\n",
    "template<typename t>\n",
    "std::ostream &operator<<(std::ostream &stream, const container<t>&obj){\n",
    "    bool first = true;\n",
    "    for(const auto &en : obj.Data()) {\n",
    "        if(!first) stream << \", \";\n",
    "        else first = false;\n",
    "        stream << en;\n",
    "    }\n",
    "    return stream;\n",
    "}"
   ]
  },
  {
   "cell_type": "markdown",
   "metadata": {},
   "source": [
    "Create container with a couple of values and print it."
   ]
  },
  {
   "cell_type": "code",
   "execution_count": null,
   "metadata": {},
   "outputs": [],
   "source": [
    "container<int> test1{1,2,3,4,5};\n",
    "container<int> test2 = {6,7,8,9,10};\n",
    "std::cout << \"Container1: \" << test1 << \"; Container2: \" << test2 << std::endl;"
   ]
  },
  {
   "cell_type": "markdown",
   "metadata": {},
   "source": [
    "Initializer lists always carry objects of the same type!"
   ]
  },
  {
   "cell_type": "code",
   "execution_count": null,
   "metadata": {},
   "outputs": [],
   "source": []
  }
 ],
 "metadata": {
  "kernelspec": {
   "display_name": "ROOT C++",
   "language": "c++",
   "name": "root"
  },
  "language_info": {
   "codemirror_mode": "text/x-c++src",
   "file_extension": ".C",
   "mimetype": " text/x-c++src",
   "name": "c++"
  }
 },
 "nbformat": 4,
 "nbformat_minor": 2
}
